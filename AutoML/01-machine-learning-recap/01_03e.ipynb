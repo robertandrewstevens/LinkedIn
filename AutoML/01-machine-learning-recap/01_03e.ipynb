{
 "cells": [
  {
   "cell_type": "code",
   "execution_count": 3,
   "metadata": {},
   "outputs": [],
   "source": [
    "import json\n",
    "import warnings\n",
    "from collections import namedtuple\n",
    "\n",
    "import joblib\n",
    "import matplotlib.pyplot as plt\n",
    "import pandas as pd\n",
    "import seaborn as sns\n",
    "from sklearn.linear_model import LogisticRegression\n",
    "from sklearn.model_selection import train_test_split\n",
    "from sklearn.metrics import classification_report, fbeta_score, roc_auc_score, accuracy_score, ConfusionMatrixDisplay\n",
    "from sklearn.preprocessing import OneHotEncoder\n",
    "from sklearn.tree import DecisionTreeClassifier, plot_tree\n",
    "\n",
    "sns.set()\n",
    "warnings.filterwarnings(\"ignore\")"
   ]
  },
  {
   "cell_type": "code",
   "execution_count": 4,
   "metadata": {},
   "outputs": [],
   "source": [
    "data = pd.read_csv(\"data/train_data.csv\")"
   ]
  },
  {
   "cell_type": "code",
   "execution_count": 5,
   "metadata": {},
   "outputs": [
    {
     "data": {
      "text/html": [
       "<div>\n",
       "<style scoped>\n",
       "    .dataframe tbody tr th:only-of-type {\n",
       "        vertical-align: middle;\n",
       "    }\n",
       "\n",
       "    .dataframe tbody tr th {\n",
       "        vertical-align: top;\n",
       "    }\n",
       "\n",
       "    .dataframe thead th {\n",
       "        text-align: right;\n",
       "    }\n",
       "</style>\n",
       "<table border=\"1\" class=\"dataframe\">\n",
       "  <thead>\n",
       "    <tr style=\"text-align: right;\">\n",
       "      <th></th>\n",
       "      <th>Customer Id</th>\n",
       "      <th>YearOfObservation</th>\n",
       "      <th>Insured_Period</th>\n",
       "      <th>Residential</th>\n",
       "      <th>Building_Painted</th>\n",
       "      <th>Building_Fenced</th>\n",
       "      <th>Garden</th>\n",
       "      <th>Settlement</th>\n",
       "      <th>Building Dimension</th>\n",
       "      <th>Building_Type</th>\n",
       "      <th>Date_of_Occupancy</th>\n",
       "      <th>NumberOfWindows</th>\n",
       "      <th>Geo_Code</th>\n",
       "      <th>Claim</th>\n",
       "    </tr>\n",
       "  </thead>\n",
       "  <tbody>\n",
       "    <tr>\n",
       "      <th>0</th>\n",
       "      <td>H14663</td>\n",
       "      <td>2013</td>\n",
       "      <td>1.0</td>\n",
       "      <td>0</td>\n",
       "      <td>N</td>\n",
       "      <td>V</td>\n",
       "      <td>V</td>\n",
       "      <td>U</td>\n",
       "      <td>290.0</td>\n",
       "      <td>1</td>\n",
       "      <td>1960.0</td>\n",
       "      <td>.</td>\n",
       "      <td>1053</td>\n",
       "      <td>0</td>\n",
       "    </tr>\n",
       "    <tr>\n",
       "      <th>1</th>\n",
       "      <td>H2037</td>\n",
       "      <td>2015</td>\n",
       "      <td>1.0</td>\n",
       "      <td>0</td>\n",
       "      <td>V</td>\n",
       "      <td>N</td>\n",
       "      <td>O</td>\n",
       "      <td>R</td>\n",
       "      <td>490.0</td>\n",
       "      <td>1</td>\n",
       "      <td>1850.0</td>\n",
       "      <td>4</td>\n",
       "      <td>1053</td>\n",
       "      <td>0</td>\n",
       "    </tr>\n",
       "    <tr>\n",
       "      <th>2</th>\n",
       "      <td>H3802</td>\n",
       "      <td>2014</td>\n",
       "      <td>1.0</td>\n",
       "      <td>0</td>\n",
       "      <td>N</td>\n",
       "      <td>V</td>\n",
       "      <td>V</td>\n",
       "      <td>U</td>\n",
       "      <td>595.0</td>\n",
       "      <td>1</td>\n",
       "      <td>1960.0</td>\n",
       "      <td>.</td>\n",
       "      <td>1053</td>\n",
       "      <td>0</td>\n",
       "    </tr>\n",
       "    <tr>\n",
       "      <th>3</th>\n",
       "      <td>H3834</td>\n",
       "      <td>2013</td>\n",
       "      <td>1.0</td>\n",
       "      <td>0</td>\n",
       "      <td>V</td>\n",
       "      <td>V</td>\n",
       "      <td>V</td>\n",
       "      <td>U</td>\n",
       "      <td>2840.0</td>\n",
       "      <td>1</td>\n",
       "      <td>1960.0</td>\n",
       "      <td>.</td>\n",
       "      <td>1053</td>\n",
       "      <td>0</td>\n",
       "    </tr>\n",
       "    <tr>\n",
       "      <th>4</th>\n",
       "      <td>H5053</td>\n",
       "      <td>2014</td>\n",
       "      <td>1.0</td>\n",
       "      <td>0</td>\n",
       "      <td>V</td>\n",
       "      <td>N</td>\n",
       "      <td>O</td>\n",
       "      <td>R</td>\n",
       "      <td>680.0</td>\n",
       "      <td>1</td>\n",
       "      <td>1800.0</td>\n",
       "      <td>3</td>\n",
       "      <td>1053</td>\n",
       "      <td>0</td>\n",
       "    </tr>\n",
       "  </tbody>\n",
       "</table>\n",
       "</div>"
      ],
      "text/plain": [
       "  Customer Id  YearOfObservation  Insured_Period  Residential  \\\n",
       "0      H14663               2013             1.0            0   \n",
       "1       H2037               2015             1.0            0   \n",
       "2       H3802               2014             1.0            0   \n",
       "3       H3834               2013             1.0            0   \n",
       "4       H5053               2014             1.0            0   \n",
       "\n",
       "  Building_Painted Building_Fenced Garden Settlement  Building Dimension  \\\n",
       "0                N               V      V          U               290.0   \n",
       "1                V               N      O          R               490.0   \n",
       "2                N               V      V          U               595.0   \n",
       "3                V               V      V          U              2840.0   \n",
       "4                V               N      O          R               680.0   \n",
       "\n",
       "   Building_Type  Date_of_Occupancy NumberOfWindows Geo_Code  Claim  \n",
       "0              1             1960.0               .     1053      0  \n",
       "1              1             1850.0               4     1053      0  \n",
       "2              1             1960.0               .     1053      0  \n",
       "3              1             1960.0               .     1053      0  \n",
       "4              1             1800.0               3     1053      0  "
      ]
     },
     "execution_count": 5,
     "metadata": {},
     "output_type": "execute_result"
    }
   ],
   "source": [
    "data.head()"
   ]
  },
  {
   "cell_type": "markdown",
   "metadata": {},
   "source": [
    "## Understanding & Preparing your Data"
   ]
  },
  {
   "cell_type": "code",
   "execution_count": 6,
   "metadata": {},
   "outputs": [
    {
     "data": {
      "text/plain": [
       "(7160, 14)"
      ]
     },
     "execution_count": 6,
     "metadata": {},
     "output_type": "execute_result"
    }
   ],
   "source": [
    "data.shape"
   ]
  },
  {
   "cell_type": "code",
   "execution_count": 7,
   "metadata": {},
   "outputs": [
    {
     "data": {
      "text/plain": [
       "0    5526\n",
       "1    1634\n",
       "Name: Claim, dtype: int64"
      ]
     },
     "execution_count": 7,
     "metadata": {},
     "output_type": "execute_result"
    }
   ],
   "source": [
    "data[\"Claim\"].value_counts()"
   ]
  },
  {
   "cell_type": "markdown",
   "metadata": {},
   "source": [
    "### Transforming Existing Features"
   ]
  },
  {
   "cell_type": "code",
   "execution_count": 8,
   "metadata": {},
   "outputs": [
    {
     "data": {
      "text/html": [
       "<div>\n",
       "<style scoped>\n",
       "    .dataframe tbody tr th:only-of-type {\n",
       "        vertical-align: middle;\n",
       "    }\n",
       "\n",
       "    .dataframe tbody tr th {\n",
       "        vertical-align: top;\n",
       "    }\n",
       "\n",
       "    .dataframe thead th {\n",
       "        text-align: right;\n",
       "    }\n",
       "</style>\n",
       "<table border=\"1\" class=\"dataframe\">\n",
       "  <thead>\n",
       "    <tr style=\"text-align: right;\">\n",
       "      <th></th>\n",
       "      <th>YearOfObservation</th>\n",
       "      <th>Insured_Period</th>\n",
       "      <th>Residential</th>\n",
       "      <th>Building Dimension</th>\n",
       "      <th>Building_Type</th>\n",
       "      <th>Date_of_Occupancy</th>\n",
       "      <th>Claim</th>\n",
       "    </tr>\n",
       "  </thead>\n",
       "  <tbody>\n",
       "    <tr>\n",
       "      <th>count</th>\n",
       "      <td>7160.000000</td>\n",
       "      <td>7160.000000</td>\n",
       "      <td>7160.000000</td>\n",
       "      <td>7054.000000</td>\n",
       "      <td>7160.000000</td>\n",
       "      <td>6652.000000</td>\n",
       "      <td>7160.000000</td>\n",
       "    </tr>\n",
       "    <tr>\n",
       "      <th>mean</th>\n",
       "      <td>2013.669553</td>\n",
       "      <td>0.909758</td>\n",
       "      <td>0.305447</td>\n",
       "      <td>1883.727530</td>\n",
       "      <td>2.186034</td>\n",
       "      <td>1964.456404</td>\n",
       "      <td>0.228212</td>\n",
       "    </tr>\n",
       "    <tr>\n",
       "      <th>std</th>\n",
       "      <td>1.383769</td>\n",
       "      <td>0.239756</td>\n",
       "      <td>0.460629</td>\n",
       "      <td>2278.157745</td>\n",
       "      <td>0.940632</td>\n",
       "      <td>36.002014</td>\n",
       "      <td>0.419709</td>\n",
       "    </tr>\n",
       "    <tr>\n",
       "      <th>min</th>\n",
       "      <td>2012.000000</td>\n",
       "      <td>0.000000</td>\n",
       "      <td>0.000000</td>\n",
       "      <td>1.000000</td>\n",
       "      <td>1.000000</td>\n",
       "      <td>1545.000000</td>\n",
       "      <td>0.000000</td>\n",
       "    </tr>\n",
       "    <tr>\n",
       "      <th>25%</th>\n",
       "      <td>2012.000000</td>\n",
       "      <td>0.997268</td>\n",
       "      <td>0.000000</td>\n",
       "      <td>528.000000</td>\n",
       "      <td>2.000000</td>\n",
       "      <td>1960.000000</td>\n",
       "      <td>0.000000</td>\n",
       "    </tr>\n",
       "    <tr>\n",
       "      <th>50%</th>\n",
       "      <td>2013.000000</td>\n",
       "      <td>1.000000</td>\n",
       "      <td>0.000000</td>\n",
       "      <td>1083.000000</td>\n",
       "      <td>2.000000</td>\n",
       "      <td>1970.000000</td>\n",
       "      <td>0.000000</td>\n",
       "    </tr>\n",
       "    <tr>\n",
       "      <th>75%</th>\n",
       "      <td>2015.000000</td>\n",
       "      <td>1.000000</td>\n",
       "      <td>1.000000</td>\n",
       "      <td>2289.750000</td>\n",
       "      <td>3.000000</td>\n",
       "      <td>1980.000000</td>\n",
       "      <td>0.000000</td>\n",
       "    </tr>\n",
       "    <tr>\n",
       "      <th>max</th>\n",
       "      <td>2016.000000</td>\n",
       "      <td>1.000000</td>\n",
       "      <td>1.000000</td>\n",
       "      <td>20940.000000</td>\n",
       "      <td>4.000000</td>\n",
       "      <td>2016.000000</td>\n",
       "      <td>1.000000</td>\n",
       "    </tr>\n",
       "  </tbody>\n",
       "</table>\n",
       "</div>"
      ],
      "text/plain": [
       "       YearOfObservation  Insured_Period  Residential  Building Dimension  \\\n",
       "count        7160.000000     7160.000000  7160.000000         7054.000000   \n",
       "mean         2013.669553        0.909758     0.305447         1883.727530   \n",
       "std             1.383769        0.239756     0.460629         2278.157745   \n",
       "min          2012.000000        0.000000     0.000000            1.000000   \n",
       "25%          2012.000000        0.997268     0.000000          528.000000   \n",
       "50%          2013.000000        1.000000     0.000000         1083.000000   \n",
       "75%          2015.000000        1.000000     1.000000         2289.750000   \n",
       "max          2016.000000        1.000000     1.000000        20940.000000   \n",
       "\n",
       "       Building_Type  Date_of_Occupancy        Claim  \n",
       "count    7160.000000        6652.000000  7160.000000  \n",
       "mean        2.186034        1964.456404     0.228212  \n",
       "std         0.940632          36.002014     0.419709  \n",
       "min         1.000000        1545.000000     0.000000  \n",
       "25%         2.000000        1960.000000     0.000000  \n",
       "50%         2.000000        1970.000000     0.000000  \n",
       "75%         3.000000        1980.000000     0.000000  \n",
       "max         4.000000        2016.000000     1.000000  "
      ]
     },
     "execution_count": 8,
     "metadata": {},
     "output_type": "execute_result"
    }
   ],
   "source": [
    "data.describe()"
   ]
  },
  {
   "cell_type": "code",
   "execution_count": 9,
   "metadata": {},
   "outputs": [
    {
     "data": {
      "text/html": [
       "<div>\n",
       "<style scoped>\n",
       "    .dataframe tbody tr th:only-of-type {\n",
       "        vertical-align: middle;\n",
       "    }\n",
       "\n",
       "    .dataframe tbody tr th {\n",
       "        vertical-align: top;\n",
       "    }\n",
       "\n",
       "    .dataframe thead th {\n",
       "        text-align: right;\n",
       "    }\n",
       "</style>\n",
       "<table border=\"1\" class=\"dataframe\">\n",
       "  <thead>\n",
       "    <tr style=\"text-align: right;\">\n",
       "      <th></th>\n",
       "      <th>Customer Id</th>\n",
       "      <th>Building_Painted</th>\n",
       "      <th>Building_Fenced</th>\n",
       "      <th>Garden</th>\n",
       "      <th>Settlement</th>\n",
       "      <th>NumberOfWindows</th>\n",
       "      <th>Geo_Code</th>\n",
       "    </tr>\n",
       "  </thead>\n",
       "  <tbody>\n",
       "    <tr>\n",
       "      <th>count</th>\n",
       "      <td>7160</td>\n",
       "      <td>7160</td>\n",
       "      <td>7160</td>\n",
       "      <td>7153</td>\n",
       "      <td>7160</td>\n",
       "      <td>7160</td>\n",
       "      <td>7058</td>\n",
       "    </tr>\n",
       "    <tr>\n",
       "      <th>unique</th>\n",
       "      <td>7160</td>\n",
       "      <td>2</td>\n",
       "      <td>2</td>\n",
       "      <td>2</td>\n",
       "      <td>2</td>\n",
       "      <td>11</td>\n",
       "      <td>1307</td>\n",
       "    </tr>\n",
       "    <tr>\n",
       "      <th>top</th>\n",
       "      <td>H14663</td>\n",
       "      <td>V</td>\n",
       "      <td>N</td>\n",
       "      <td>O</td>\n",
       "      <td>R</td>\n",
       "      <td>.</td>\n",
       "      <td>6088</td>\n",
       "    </tr>\n",
       "    <tr>\n",
       "      <th>freq</th>\n",
       "      <td>1</td>\n",
       "      <td>5382</td>\n",
       "      <td>3608</td>\n",
       "      <td>3602</td>\n",
       "      <td>3610</td>\n",
       "      <td>3551</td>\n",
       "      <td>143</td>\n",
       "    </tr>\n",
       "  </tbody>\n",
       "</table>\n",
       "</div>"
      ],
      "text/plain": [
       "       Customer Id Building_Painted Building_Fenced Garden Settlement  \\\n",
       "count         7160             7160            7160   7153       7160   \n",
       "unique        7160                2               2      2          2   \n",
       "top         H14663                V               N      O          R   \n",
       "freq             1             5382            3608   3602       3610   \n",
       "\n",
       "       NumberOfWindows Geo_Code  \n",
       "count             7160     7058  \n",
       "unique              11     1307  \n",
       "top                  .     6088  \n",
       "freq              3551      143  "
      ]
     },
     "execution_count": 9,
     "metadata": {},
     "output_type": "execute_result"
    }
   ],
   "source": [
    "data.describe(include='O')"
   ]
  },
  {
   "cell_type": "code",
   "execution_count": 10,
   "metadata": {},
   "outputs": [
    {
     "data": {
      "text/plain": [
       "   .    3551\n",
       "4        939\n",
       "3        844\n",
       "5        639\n",
       "2        363\n",
       "6        306\n",
       "7        211\n",
       "8        116\n",
       "1         75\n",
       ">=10      67\n",
       "9         49\n",
       "Name: NumberOfWindows, dtype: int64"
      ]
     },
     "execution_count": 10,
     "metadata": {},
     "output_type": "execute_result"
    }
   ],
   "source": [
    "data[\"NumberOfWindows\"].value_counts()"
   ]
  },
  {
   "cell_type": "code",
   "execution_count": 11,
   "metadata": {},
   "outputs": [],
   "source": [
    "data[\"NumberOfWindows\"] = data[\"NumberOfWindows\"].replace({\"   .\": \"0\", \">=10\": \"10\"}).astype(int)"
   ]
  },
  {
   "cell_type": "markdown",
   "metadata": {},
   "source": [
    "### Handling Missing Values"
   ]
  },
  {
   "cell_type": "code",
   "execution_count": 12,
   "metadata": {},
   "outputs": [
    {
     "data": {
      "text/plain": [
       "617"
      ]
     },
     "execution_count": 12,
     "metadata": {},
     "output_type": "execute_result"
    }
   ],
   "source": [
    "# How many rows contain a missing value?\n",
    "data.isnull().any(axis=1).sum()"
   ]
  },
  {
   "cell_type": "code",
   "execution_count": 13,
   "metadata": {},
   "outputs": [
    {
     "data": {
      "text/plain": [
       "Customer Id             0\n",
       "YearOfObservation       0\n",
       "Insured_Period          0\n",
       "Residential             0\n",
       "Building_Painted        0\n",
       "Building_Fenced         0\n",
       "Garden                  7\n",
       "Settlement              0\n",
       "Building Dimension    106\n",
       "Building_Type           0\n",
       "Date_of_Occupancy     508\n",
       "NumberOfWindows         0\n",
       "Geo_Code              102\n",
       "Claim                   0\n",
       "dtype: int64"
      ]
     },
     "execution_count": 13,
     "metadata": {},
     "output_type": "execute_result"
    }
   ],
   "source": [
    "# How many missing values are in each column?\n",
    "data.isnull().sum()"
   ]
  },
  {
   "cell_type": "code",
   "execution_count": 14,
   "metadata": {},
   "outputs": [],
   "source": [
    "data.dropna(how=\"any\", inplace=True)"
   ]
  },
  {
   "cell_type": "code",
   "execution_count": 15,
   "metadata": {},
   "outputs": [
    {
     "data": {
      "text/plain": [
       "(6543, 14)"
      ]
     },
     "execution_count": 15,
     "metadata": {},
     "output_type": "execute_result"
    }
   ],
   "source": [
    "data.shape"
   ]
  },
  {
   "cell_type": "markdown",
   "metadata": {},
   "source": [
    "### Encoding Features"
   ]
  },
  {
   "cell_type": "code",
   "execution_count": 16,
   "metadata": {},
   "outputs": [],
   "source": [
    "categorical_columns = [\"Building_Painted\", \"Building_Fenced\", \"Garden\", \"Settlement\"]"
   ]
  },
  {
   "cell_type": "code",
   "execution_count": 17,
   "metadata": {},
   "outputs": [
    {
     "data": {
      "text/html": [
       "<div>\n",
       "<style scoped>\n",
       "    .dataframe tbody tr th:only-of-type {\n",
       "        vertical-align: middle;\n",
       "    }\n",
       "\n",
       "    .dataframe tbody tr th {\n",
       "        vertical-align: top;\n",
       "    }\n",
       "\n",
       "    .dataframe thead th {\n",
       "        text-align: right;\n",
       "    }\n",
       "</style>\n",
       "<table border=\"1\" class=\"dataframe\">\n",
       "  <thead>\n",
       "    <tr style=\"text-align: right;\">\n",
       "      <th></th>\n",
       "      <th>Building_Painted</th>\n",
       "      <th>Building_Fenced</th>\n",
       "      <th>Garden</th>\n",
       "      <th>Settlement</th>\n",
       "    </tr>\n",
       "  </thead>\n",
       "  <tbody>\n",
       "    <tr>\n",
       "      <th>0</th>\n",
       "      <td>N</td>\n",
       "      <td>V</td>\n",
       "      <td>V</td>\n",
       "      <td>U</td>\n",
       "    </tr>\n",
       "    <tr>\n",
       "      <th>1</th>\n",
       "      <td>V</td>\n",
       "      <td>N</td>\n",
       "      <td>O</td>\n",
       "      <td>R</td>\n",
       "    </tr>\n",
       "    <tr>\n",
       "      <th>2</th>\n",
       "      <td>N</td>\n",
       "      <td>V</td>\n",
       "      <td>V</td>\n",
       "      <td>U</td>\n",
       "    </tr>\n",
       "    <tr>\n",
       "      <th>3</th>\n",
       "      <td>V</td>\n",
       "      <td>V</td>\n",
       "      <td>V</td>\n",
       "      <td>U</td>\n",
       "    </tr>\n",
       "    <tr>\n",
       "      <th>4</th>\n",
       "      <td>V</td>\n",
       "      <td>N</td>\n",
       "      <td>O</td>\n",
       "      <td>R</td>\n",
       "    </tr>\n",
       "  </tbody>\n",
       "</table>\n",
       "</div>"
      ],
      "text/plain": [
       "  Building_Painted Building_Fenced Garden Settlement\n",
       "0                N               V      V          U\n",
       "1                V               N      O          R\n",
       "2                N               V      V          U\n",
       "3                V               V      V          U\n",
       "4                V               N      O          R"
      ]
     },
     "execution_count": 17,
     "metadata": {},
     "output_type": "execute_result"
    }
   ],
   "source": [
    "data[categorical_columns].head()"
   ]
  },
  {
   "cell_type": "code",
   "execution_count": 18,
   "metadata": {},
   "outputs": [
    {
     "data": {
      "text/plain": [
       "OneHotEncoder(drop='first', handle_unknown='ignore', sparse=False)"
      ]
     },
     "execution_count": 18,
     "metadata": {},
     "output_type": "execute_result"
    }
   ],
   "source": [
    "encoder = OneHotEncoder(handle_unknown=\"ignore\", drop=\"first\", sparse=False)\n",
    "encoder.fit(data[categorical_columns])"
   ]
  },
  {
   "cell_type": "code",
   "execution_count": 19,
   "metadata": {},
   "outputs": [],
   "source": [
    "data[categorical_columns] = encoder.transform(data[categorical_columns])"
   ]
  },
  {
   "cell_type": "code",
   "execution_count": 20,
   "metadata": {},
   "outputs": [
    {
     "data": {
      "text/html": [
       "<div>\n",
       "<style scoped>\n",
       "    .dataframe tbody tr th:only-of-type {\n",
       "        vertical-align: middle;\n",
       "    }\n",
       "\n",
       "    .dataframe tbody tr th {\n",
       "        vertical-align: top;\n",
       "    }\n",
       "\n",
       "    .dataframe thead th {\n",
       "        text-align: right;\n",
       "    }\n",
       "</style>\n",
       "<table border=\"1\" class=\"dataframe\">\n",
       "  <thead>\n",
       "    <tr style=\"text-align: right;\">\n",
       "      <th></th>\n",
       "      <th>Building_Painted</th>\n",
       "      <th>Building_Fenced</th>\n",
       "      <th>Garden</th>\n",
       "      <th>Settlement</th>\n",
       "    </tr>\n",
       "  </thead>\n",
       "  <tbody>\n",
       "    <tr>\n",
       "      <th>0</th>\n",
       "      <td>0.0</td>\n",
       "      <td>1.0</td>\n",
       "      <td>1.0</td>\n",
       "      <td>1.0</td>\n",
       "    </tr>\n",
       "    <tr>\n",
       "      <th>1</th>\n",
       "      <td>1.0</td>\n",
       "      <td>0.0</td>\n",
       "      <td>0.0</td>\n",
       "      <td>0.0</td>\n",
       "    </tr>\n",
       "    <tr>\n",
       "      <th>2</th>\n",
       "      <td>0.0</td>\n",
       "      <td>1.0</td>\n",
       "      <td>1.0</td>\n",
       "      <td>1.0</td>\n",
       "    </tr>\n",
       "    <tr>\n",
       "      <th>3</th>\n",
       "      <td>1.0</td>\n",
       "      <td>1.0</td>\n",
       "      <td>1.0</td>\n",
       "      <td>1.0</td>\n",
       "    </tr>\n",
       "    <tr>\n",
       "      <th>4</th>\n",
       "      <td>1.0</td>\n",
       "      <td>0.0</td>\n",
       "      <td>0.0</td>\n",
       "      <td>0.0</td>\n",
       "    </tr>\n",
       "  </tbody>\n",
       "</table>\n",
       "</div>"
      ],
      "text/plain": [
       "   Building_Painted  Building_Fenced  Garden  Settlement\n",
       "0               0.0              1.0     1.0         1.0\n",
       "1               1.0              0.0     0.0         0.0\n",
       "2               0.0              1.0     1.0         1.0\n",
       "3               1.0              1.0     1.0         1.0\n",
       "4               1.0              0.0     0.0         0.0"
      ]
     },
     "execution_count": 20,
     "metadata": {},
     "output_type": "execute_result"
    }
   ],
   "source": [
    "data[categorical_columns].head()"
   ]
  },
  {
   "cell_type": "markdown",
   "metadata": {},
   "source": [
    "### Creating New Features"
   ]
  },
  {
   "cell_type": "code",
   "execution_count": 21,
   "metadata": {},
   "outputs": [],
   "source": [
    "data[\"age_of_building\"] = data[\"YearOfObservation\"] - data[\"Date_of_Occupancy\"]"
   ]
  },
  {
   "cell_type": "code",
   "execution_count": 22,
   "metadata": {},
   "outputs": [
    {
     "data": {
      "text/plain": [
       "count    6543.000000\n",
       "mean       49.240715\n",
       "std        35.787297\n",
       "min         0.000000\n",
       "25%        32.000000\n",
       "50%        46.000000\n",
       "75%        55.000000\n",
       "max       469.000000\n",
       "Name: age_of_building, dtype: float64"
      ]
     },
     "execution_count": 22,
     "metadata": {},
     "output_type": "execute_result"
    }
   ],
   "source": [
    "data['age_of_building'].describe()"
   ]
  },
  {
   "cell_type": "code",
   "execution_count": 23,
   "metadata": {},
   "outputs": [
    {
     "data": {
      "text/plain": [
       "<AxesSubplot:xlabel='age_of_building', ylabel='Density'>"
      ]
     },
     "execution_count": 23,
     "metadata": {},
     "output_type": "execute_result"
    },
    {
     "data": {
      "image/png": "[encoded data removed]",
      "text/plain": [
       "<Figure size 432x288 with 1 Axes>"
      ]
     },
     "metadata": {},
     "output_type": "display_data"
    }
   ],
   "source": [
    "sns.distplot(data[\"age_of_building\"])"
   ]
  },
  {
   "cell_type": "markdown",
   "metadata": {},
   "source": [
    "### Checking Correlation Between Features"
   ]
  },
  {
   "cell_type": "code",
   "execution_count": 24,
   "metadata": {},
   "outputs": [],
   "source": [
    "corr_df = data[categorical_columns].corr()"
   ]
  },
  {
   "cell_type": "code",
   "execution_count": 25,
   "metadata": {},
   "outputs": [
    {
     "data": {
      "text/plain": [
       "<AxesSubplot:>"
      ]
     },
     "execution_count": 25,
     "metadata": {},
     "output_type": "execute_result"
    },
    {
     "data": {
      "image/png": "[encoded data removed]",
      "text/plain": [
       "<Figure size 432x288 with 2 Axes>"
      ]
     },
     "metadata": {},
     "output_type": "display_data"
    }
   ],
   "source": [
    "sns.heatmap(corr_df, annot=True, cmap=\"BrBG\")"
   ]
  },
  {
   "cell_type": "markdown",
   "metadata": {},
   "source": [
    "### Dropping Features"
   ]
  },
  {
   "cell_type": "code",
   "execution_count": 26,
   "metadata": {},
   "outputs": [],
   "source": [
    "dropped_columns = [\"Geo_Code\", \"Customer Id\", \"YearOfObservation\", \"Date_of_Occupancy\", \"Garden\", \"Settlement\"]"
   ]
  },
  {
   "cell_type": "code",
   "execution_count": 27,
   "metadata": {},
   "outputs": [],
   "source": [
    "data.drop(dropped_columns, axis=1, inplace=True)"
   ]
  },
  {
   "cell_type": "code",
   "execution_count": 28,
   "metadata": {},
   "outputs": [
    {
     "data": {
      "text/plain": [
       "(6543, 9)"
      ]
     },
     "execution_count": 28,
     "metadata": {},
     "output_type": "execute_result"
    }
   ],
   "source": [
    "data.shape"
   ]
  },
  {
   "cell_type": "markdown",
   "metadata": {},
   "source": [
    "### Splitting Dataset for Modelling"
   ]
  },
  {
   "cell_type": "code",
   "execution_count": 29,
   "metadata": {},
   "outputs": [],
   "source": [
    "target = data.pop(\"Claim\")"
   ]
  },
  {
   "cell_type": "code",
   "execution_count": 30,
   "metadata": {},
   "outputs": [],
   "source": [
    "X_train, X_test, y_train, y_test = train_test_split(\n",
    "    data, target, test_size=0.2, stratify=target, random_state=42)"
   ]
  },
  {
   "cell_type": "code",
   "execution_count": 31,
   "metadata": {},
   "outputs": [
    {
     "name": "stdout",
     "output_type": "stream",
     "text": [
      "(5234, 8)\n"
     ]
    }
   ],
   "source": [
    "print(X_train.shape)"
   ]
  },
  {
   "cell_type": "code",
   "execution_count": 32,
   "metadata": {},
   "outputs": [
    {
     "name": "stdout",
     "output_type": "stream",
     "text": [
      "(1309, 8)\n"
     ]
    }
   ],
   "source": [
    "print(X_test.shape)"
   ]
  },
  {
   "cell_type": "markdown",
   "metadata": {},
   "source": [
    "## Modelling"
   ]
  },
  {
   "cell_type": "code",
   "execution_count": 33,
   "metadata": {},
   "outputs": [],
   "source": [
    "def train_and_evaluate_model(model, X_train, X_test, y_train, y_test):\n",
    "    model.fit(X_train, y_train)\n",
    "    y_train_pred = model.predict(X_train)\n",
    "    y_test_pred = model.predict(X_test)\n",
    "\n",
    "    print(\"Classification Report: Train set\\n\")\n",
    "    print(classification_report(y_train, y_train_pred))\n",
    "\n",
    "    print(\"Classification Report: Test set\\n\")\n",
    "    print(classification_report(y_test, y_test_pred))\n",
    "\n",
    "    print(\"Confusion Matrix: Train set\\n\")\n",
    "    ConfusionMatrixDisplay.from_predictions(y_train, y_train_pred, labels=[0, 1])\n",
    "    plt.grid(False)\n",
    "    plt.show()\n",
    "\n",
    "    print(\"Confusion Matrix: Test set\\n\")\n",
    "    ConfusionMatrixDisplay.from_predictions(y_test, y_test_pred, labels=[0, 1])\n",
    "    plt.grid(False)\n",
    "    plt.show()"
   ]
  },
  {
   "cell_type": "markdown",
   "metadata": {},
   "source": [
    "### Decision Tree"
   ]
  },
  {
   "cell_type": "code",
   "execution_count": 34,
   "metadata": {},
   "outputs": [],
   "source": [
    "model_dt = model_dt = DecisionTreeClassifier(class_weight=\"balanced\", splitter=\"random\", random_state=42)"
   ]
  },
  {
   "cell_type": "code",
   "execution_count": 35,
   "metadata": {},
   "outputs": [
    {
     "name": "stdout",
     "output_type": "stream",
     "text": [
      "Classification Report: Train set\n",
      "\n",
      "              precision    recall  f1-score   support\n",
      "\n",
      "           0       1.00      0.99      0.99      4025\n",
      "           1       0.97      1.00      0.98      1209\n",
      "\n",
      "    accuracy                           0.99      5234\n",
      "   macro avg       0.98      0.99      0.99      5234\n",
      "weighted avg       0.99      0.99      0.99      5234\n",
      "\n",
      "Classification Report: Test set\n",
      "\n",
      "              precision    recall  f1-score   support\n",
      "\n",
      "           0       0.80      0.79      0.79      1007\n",
      "           1       0.32      0.34      0.33       302\n",
      "\n",
      "    accuracy                           0.68      1309\n",
      "   macro avg       0.56      0.56      0.56      1309\n",
      "weighted avg       0.69      0.68      0.69      1309\n",
      "\n",
      "Confusion Matrix: Train set\n",
      "\n"
     ]
    },
    {
     "data": {
      "image/png": "[encoded data removed]",
      "text/plain": [
       "<Figure size 432x288 with 2 Axes>"
      ]
     },
     "metadata": {},
     "output_type": "display_data"
    },
    {
     "name": "stdout",
     "output_type": "stream",
     "text": [
      "Confusion Matrix: Test set\n",
      "\n"
     ]
    },
    {
     "data": {
      "image/png": "[encoded data removed]",
      "text/plain": [
       "<Figure size 432x288 with 2 Axes>"
      ]
     },
     "metadata": {},
     "output_type": "display_data"
    }
   ],
   "source": [
    "model_dt = train_and_evaluate_model(model_dt, X_train, X_test, y_train, y_test)"
   ]
  },
  {
   "cell_type": "markdown",
   "metadata": {},
   "source": [
    "## Hyperparameter Tuning"
   ]
  },
  {
   "cell_type": "markdown",
   "metadata": {},
   "source": [
    "### Tuning Max Depth"
   ]
  },
  {
   "cell_type": "code",
   "execution_count": 36,
   "metadata": {},
   "outputs": [],
   "source": [
    "results = {}"
   ]
  },
  {
   "cell_type": "code",
   "execution_count": 41,
   "metadata": {},
   "outputs": [
    {
     "name": "stdout",
     "output_type": "stream",
     "text": [
      "Max Depth: 3\n",
      "F Score: 0.4515347334410339\n",
      "Max Depth: 4\n",
      "F Score: 0.4948957890259464\n",
      "Max Depth: 5\n",
      "F Score: 0.3965429588205389\n",
      "Max Depth: 6\n",
      "F Score: 0.5088062622309198\n",
      "Max Depth: 7\n",
      "F Score: 0.4817739975698664\n",
      "Max Depth: 8\n",
      "F Score: 0.5063856960408685\n",
      "Max Depth: 9\n",
      "F Score: 0.47467285774588436\n",
      "Max Depth: 10\n",
      "F Score: 0.4579480405107882\n",
      "Max Depth: 11\n",
      "F Score: 0.4513489606368863\n",
      "Max Depth: 12\n",
      "F Score: 0.42564427545416145\n",
      "Max Depth: 13\n",
      "F Score: 0.44081381011097415\n",
      "Max Depth: 14\n",
      "F Score: 0.4316295325469638\n",
      "Max Depth: 15\n",
      "F Score: 0.3626609442060086\n",
      "Max Depth: 16\n",
      "F Score: 0.4164825452938577\n",
      "Max Depth: 17\n",
      "F Score: 0.37878787878787884\n",
      "Max Depth: 18\n",
      "F Score: 0.3933806146572104\n",
      "Max Depth: 19\n",
      "F Score: 0.350753524550316\n",
      "Max Depth: 20\n",
      "F Score: 0.36335403726708065\n",
      "Max Depth: 21\n",
      "F Score: 0.3909307875894988\n",
      "Max Depth: 22\n",
      "F Score: 0.32255639097744365\n",
      "Max Depth: 23\n",
      "F Score: 0.3520433284096504\n",
      "Max Depth: 24\n",
      "F Score: 0.3486215538847118\n",
      "Max Depth: 25\n",
      "F Score: 0.35407296351824086\n",
      "Max Depth: 26\n",
      "F Score: 0.31770573566084787\n",
      "Max Depth: 27\n",
      "F Score: 0.32320441988950277\n",
      "Max Depth: 28\n",
      "F Score: 0.3417626439659489\n",
      "Max Depth: 29\n",
      "F Score: 0.3666501731815933\n",
      "Max Depth: 30\n",
      "F Score: 0.3505690252350322\n",
      "Max Depth: 31\n",
      "F Score: 0.35879743716116325\n",
      "Max Depth: 32\n",
      "F Score: 0.3333333333333333\n",
      "Max Depth: 33\n",
      "F Score: 0.3333333333333333\n",
      "Max Depth: 34\n",
      "F Score: 0.3333333333333333\n",
      "Max Depth: 35\n",
      "F Score: 0.3333333333333333\n",
      "Max Depth: 36\n",
      "F Score: 0.3333333333333333\n",
      "Max Depth: 37\n",
      "F Score: 0.3333333333333333\n",
      "Max Depth: 38\n",
      "F Score: 0.3333333333333333\n",
      "Max Depth: 39\n",
      "F Score: 0.3333333333333333\n",
      "Max Depth: 40\n",
      "F Score: 0.3333333333333333\n",
      "Max Depth: 41\n",
      "F Score: 0.3333333333333333\n",
      "Max Depth: 42\n",
      "F Score: 0.3333333333333333\n",
      "Max Depth: 43\n",
      "F Score: 0.3333333333333333\n",
      "Max Depth: 44\n",
      "F Score: 0.3333333333333333\n",
      "Max Depth: 45\n",
      "F Score: 0.3333333333333333\n",
      "Max Depth: 46\n",
      "F Score: 0.3333333333333333\n",
      "Max Depth: 47\n",
      "F Score: 0.3333333333333333\n",
      "Max Depth: 48\n",
      "F Score: 0.3333333333333333\n",
      "Max Depth: 49\n",
      "F Score: 0.3333333333333333\n",
      "Max Depth: 50\n",
      "F Score: 0.3333333333333333\n"
     ]
    }
   ],
   "source": [
    "for depth in range(3, 51):\n",
    "    model = DecisionTreeClassifier(\n",
    "        class_weight=\"balanced\", splitter=\"random\", max_depth=depth, random_state=42)\n",
    "\n",
    "    model.fit(X_train, y_train)\n",
    "    ypred = model.predict(X_test)\n",
    "\n",
    "    f2score = fbeta_score(y_test, ypred, beta=2.0)\n",
    "\n",
    "    print(f\"Max Depth: {depth}\")\n",
    "    print(f\"F Score: {f2score}\")\n",
    "\n",
    "    results[depth] = f2score"
   ]
  },
  {
   "cell_type": "code",
   "execution_count": 42,
   "metadata": {},
   "outputs": [
    {
     "name": "stdout",
     "output_type": "stream",
     "text": [
      "Best Depth: 6\n"
     ]
    }
   ],
   "source": [
    "best_depth = sorted(results, key=lambda x: results[x], reverse=True)[0]\n",
    "print(f\"Best Depth: {best_depth}\")"
   ]
  },
  {
   "cell_type": "code",
   "execution_count": 43,
   "metadata": {},
   "outputs": [],
   "source": [
    "tuned_model = DecisionTreeClassifier(\n",
    "    class_weight=\"balanced\", splitter=\"random\", max_depth=best_depth, random_state=42)"
   ]
  },
  {
   "cell_type": "code",
   "execution_count": 44,
   "metadata": {},
   "outputs": [
    {
     "name": "stdout",
     "output_type": "stream",
     "text": [
      "Classification Report: Train set\n",
      "\n",
      "              precision    recall  f1-score   support\n",
      "\n",
      "           0       0.87      0.63      0.73      4025\n",
      "           1       0.36      0.70      0.48      1209\n",
      "\n",
      "    accuracy                           0.64      5234\n",
      "   macro avg       0.62      0.66      0.60      5234\n",
      "weighted avg       0.76      0.64      0.67      5234\n",
      "\n",
      "Classification Report: Test set\n",
      "\n",
      "              precision    recall  f1-score   support\n",
      "\n",
      "           0       0.86      0.60      0.71      1007\n",
      "           1       0.33      0.66      0.44       302\n",
      "\n",
      "    accuracy                           0.62      1309\n",
      "   macro avg       0.60      0.63      0.58      1309\n",
      "weighted avg       0.74      0.62      0.65      1309\n",
      "\n",
      "Confusion Matrix: Train set\n",
      "\n"
     ]
    },
    {
     "data": {
      "image/png": "[encoded data removed]",
      "text/plain": [
       "<Figure size 432x288 with 2 Axes>"
      ]
     },
     "metadata": {},
     "output_type": "display_data"
    },
    {
     "name": "stdout",
     "output_type": "stream",
     "text": [
      "Confusion Matrix: Test set\n",
      "\n"
     ]
    },
    {
     "data": {
      "image/png": "[encoded data removed]",
      "text/plain": [
       "<Figure size 432x288 with 2 Axes>"
      ]
     },
     "metadata": {},
     "output_type": "display_data"
    }
   ],
   "source": [
    "train_and_evaluate_model(tuned_model, X_train, X_test, y_train, y_test)"
   ]
  },
  {
   "cell_type": "code",
   "execution_count": null,
   "metadata": {},
   "outputs": [],
   "source": []
  }
 ],
 "metadata": {
  "kernelspec": {
   "display_name": "Python 3.9.6 ('proto')",
   "language": "python",
   "name": "python3"
  },
  "language_info": {
   "codemirror_mode": {
    "name": "ipython",
    "version": 3
   },
   "file_extension": ".py",
   "mimetype": "text/x-python",
   "name": "python",
   "nbconvert_exporter": "python",
   "pygments_lexer": "ipython3",
   "version": "3.9.6"
  },
  "orig_nbformat": 4,
  "vscode": {
   "interpreter": {
    "hash": "60adf44524369d28879ffaeaaf97c415106b0a87f2ed277ea1e28d760cf61442"
   }
  }
 },
 "nbformat": 4,
 "nbformat_minor": 2
}
