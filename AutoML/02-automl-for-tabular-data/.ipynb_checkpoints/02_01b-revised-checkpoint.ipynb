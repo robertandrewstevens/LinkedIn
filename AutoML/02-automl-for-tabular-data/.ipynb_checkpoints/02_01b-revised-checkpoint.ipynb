{
 "cells": [
  {
   "cell_type": "code",
   "execution_count": 1,
   "metadata": {},
   "outputs": [
    {
     "name": "stdout",
     "output_type": "stream",
     "text": [
      "Collecting autogluon.tabular[catboost,lightgbm,xgboost]\n",
      "  Downloading autogluon.tabular-0.8.2-py3-none-any.whl (285 kB)\n",
      "\u001b[K     |████████████████████████████████| 285 kB 4.4 MB/s eta 0:00:01\n",
      "\u001b[?25hRequirement already satisfied: scipy<1.12,>=1.5.4 in /Users/robertandrewstevens/opt/anaconda3/lib/python3.9/site-packages (from autogluon.tabular[catboost,lightgbm,xgboost]) (1.7.1)\n",
      "Requirement already satisfied: scikit-learn<1.3,>=1.0 in /Users/robertandrewstevens/opt/anaconda3/lib/python3.9/site-packages (from autogluon.tabular[catboost,lightgbm,xgboost]) (1.1.1)\n",
      "Collecting autogluon.core==0.8.2\n",
      "  Downloading autogluon.core-0.8.2-py3-none-any.whl (224 kB)\n",
      "\u001b[K     |████████████████████████████████| 224 kB 120.9 MB/s eta 0:00:01\n",
      "\u001b[?25hCollecting autogluon.features==0.8.2\n",
      "  Downloading autogluon.features-0.8.2-py3-none-any.whl (62 kB)\n",
      "\u001b[K     |████████████████████████████████| 62 kB 3.5 MB/s  eta 0:00:01\n",
      "\u001b[?25hCollecting numpy<1.27,>=1.21\n",
      "  Downloading numpy-1.25.0-cp39-cp39-macosx_10_9_x86_64.whl (20.1 MB)\n",
      "\u001b[K     |████████████████████████████████| 20.1 MB 165.2 MB/s eta 0:00:01\n",
      "\u001b[?25hCollecting networkx<4,>=3.0\n",
      "  Downloading networkx-3.1-py3-none-any.whl (2.1 MB)\n",
      "\u001b[K     |████████████████████████████████| 2.1 MB 151.1 MB/s eta 0:00:01\n",
      "\u001b[?25hCollecting pandas<1.6,>=1.4.1\n",
      "  Downloading pandas-1.5.3-cp39-cp39-macosx_10_9_x86_64.whl (12.0 MB)\n",
      "\u001b[K     |████████████████████████████████| 12.0 MB 164.3 MB/s eta 0:00:01\n",
      "\u001b[?25hCollecting xgboost<1.8,>=1.6\n",
      "  Downloading xgboost-1.7.6-py3-none-macosx_10_15_x86_64.macosx_11_0_x86_64.macosx_12_0_x86_64.whl (1.8 MB)\n",
      "\u001b[K     |████████████████████████████████| 1.8 MB 109.5 MB/s eta 0:00:01\n",
      "\u001b[?25hCollecting catboost<1.3,>=1.1\n",
      "  Downloading catboost-1.2.tar.gz (95.9 MB)\n",
      "\u001b[K     |████████████████████████████████| 95.9 MB 2.5 MB/s eta 0:00:0101\n",
      "\u001b[?25h  Installing build dependencies ... \u001b[?25ldone\n",
      "\u001b[?25h  Getting requirements to build wheel ... \u001b[?25ldone\n",
      "\u001b[?25h    Preparing wheel metadata ... \u001b[?25ldone\n",
      "\u001b[?25h  Downloading catboost-1.1.1-cp39-none-macosx_10_6_universal2.whl (22.0 MB)\n",
      "\u001b[K     |████████████████████████████████| 22.0 MB 89 kB/s eta 0:00:0121B/s eta 0:00:01\n",
      "\u001b[?25hRequirement already satisfied: lightgbm<3.4,>=3.3 in /Users/robertandrewstevens/opt/anaconda3/lib/python3.9/site-packages (from autogluon.tabular[catboost,lightgbm,xgboost]) (3.3.2)\n",
      "Requirement already satisfied: requests in /Users/robertandrewstevens/opt/anaconda3/lib/python3.9/site-packages (from autogluon.core==0.8.2->autogluon.tabular[catboost,lightgbm,xgboost]) (2.26.0)\n",
      "Collecting autogluon.common==0.8.2\n",
      "  Downloading autogluon.common-0.8.2-py3-none-any.whl (61 kB)\n",
      "\u001b[K     |████████████████████████████████| 61 kB 26.6 MB/s eta 0:00:01\n",
      "\u001b[?25hRequirement already satisfied: boto3<2,>=1.10 in /Users/robertandrewstevens/opt/anaconda3/lib/python3.9/site-packages (from autogluon.core==0.8.2->autogluon.tabular[catboost,lightgbm,xgboost]) (1.26.80)\n",
      "Requirement already satisfied: tqdm<5,>=4.38 in /Users/robertandrewstevens/opt/anaconda3/lib/python3.9/site-packages (from autogluon.core==0.8.2->autogluon.tabular[catboost,lightgbm,xgboost]) (4.62.3)\n",
      "Requirement already satisfied: matplotlib in /Users/robertandrewstevens/opt/anaconda3/lib/python3.9/site-packages (from autogluon.core==0.8.2->autogluon.tabular[catboost,lightgbm,xgboost]) (3.4.3)\n",
      "Requirement already satisfied: setuptools in /Users/robertandrewstevens/opt/anaconda3/lib/python3.9/site-packages (from autogluon.common==0.8.2->autogluon.core==0.8.2->autogluon.tabular[catboost,lightgbm,xgboost]) (58.0.4)\n",
      "Requirement already satisfied: psutil<6,>=5.7.3 in /Users/robertandrewstevens/opt/anaconda3/lib/python3.9/site-packages (from autogluon.common==0.8.2->autogluon.core==0.8.2->autogluon.tabular[catboost,lightgbm,xgboost]) (5.8.0)\n",
      "Requirement already satisfied: s3transfer<0.7.0,>=0.6.0 in /Users/robertandrewstevens/opt/anaconda3/lib/python3.9/site-packages (from boto3<2,>=1.10->autogluon.core==0.8.2->autogluon.tabular[catboost,lightgbm,xgboost]) (0.6.0)\n",
      "Requirement already satisfied: botocore<1.30.0,>=1.29.80 in /Users/robertandrewstevens/opt/anaconda3/lib/python3.9/site-packages (from boto3<2,>=1.10->autogluon.core==0.8.2->autogluon.tabular[catboost,lightgbm,xgboost]) (1.29.80)\n",
      "Requirement already satisfied: jmespath<2.0.0,>=0.7.1 in /Users/robertandrewstevens/opt/anaconda3/lib/python3.9/site-packages (from boto3<2,>=1.10->autogluon.core==0.8.2->autogluon.tabular[catboost,lightgbm,xgboost]) (1.0.1)\n",
      "Requirement already satisfied: python-dateutil<3.0.0,>=2.1 in /Users/robertandrewstevens/opt/anaconda3/lib/python3.9/site-packages (from botocore<1.30.0,>=1.29.80->boto3<2,>=1.10->autogluon.core==0.8.2->autogluon.tabular[catboost,lightgbm,xgboost]) (2.8.2)\n",
      "Requirement already satisfied: urllib3<1.27,>=1.25.4 in /Users/robertandrewstevens/opt/anaconda3/lib/python3.9/site-packages (from botocore<1.30.0,>=1.29.80->boto3<2,>=1.10->autogluon.core==0.8.2->autogluon.tabular[catboost,lightgbm,xgboost]) (1.26.7)\n",
      "Requirement already satisfied: graphviz in /Users/robertandrewstevens/opt/anaconda3/lib/python3.9/site-packages (from catboost<1.3,>=1.1->autogluon.tabular[catboost,lightgbm,xgboost]) (0.19.1)\n",
      "Requirement already satisfied: plotly in /Users/robertandrewstevens/opt/anaconda3/lib/python3.9/site-packages (from catboost<1.3,>=1.1->autogluon.tabular[catboost,lightgbm,xgboost]) (5.6.0)\n",
      "Requirement already satisfied: six in /Users/robertandrewstevens/opt/anaconda3/lib/python3.9/site-packages (from catboost<1.3,>=1.1->autogluon.tabular[catboost,lightgbm,xgboost]) (1.16.0)\n",
      "Requirement already satisfied: wheel in /Users/robertandrewstevens/opt/anaconda3/lib/python3.9/site-packages (from lightgbm<3.4,>=3.3->autogluon.tabular[catboost,lightgbm,xgboost]) (0.37.0)\n",
      "Requirement already satisfied: pytz>=2020.1 in /Users/robertandrewstevens/opt/anaconda3/lib/python3.9/site-packages (from pandas<1.6,>=1.4.1->autogluon.tabular[catboost,lightgbm,xgboost]) (2021.3)\n",
      "Requirement already satisfied: threadpoolctl>=2.0.0 in /Users/robertandrewstevens/opt/anaconda3/lib/python3.9/site-packages (from scikit-learn<1.3,>=1.0->autogluon.tabular[catboost,lightgbm,xgboost]) (2.2.0)\n",
      "Requirement already satisfied: joblib>=1.0.0 in /Users/robertandrewstevens/opt/anaconda3/lib/python3.9/site-packages (from scikit-learn<1.3,>=1.0->autogluon.tabular[catboost,lightgbm,xgboost]) (1.2.0)\n",
      "Collecting numpy<1.27,>=1.21\n",
      "  Downloading numpy-1.22.4-cp39-cp39-macosx_10_15_x86_64.whl (17.7 MB)\n",
      "\u001b[K     |████████████████████████████████| 17.7 MB 2.2 MB/s eta 0:00:0101████████████████████▎     | 14.5 MB 102.6 MB/s eta 0:00:01\n",
      "\u001b[?25hRequirement already satisfied: pyparsing>=2.2.1 in /Users/robertandrewstevens/opt/anaconda3/lib/python3.9/site-packages (from matplotlib->autogluon.core==0.8.2->autogluon.tabular[catboost,lightgbm,xgboost]) (3.0.4)\n",
      "Requirement already satisfied: pillow>=6.2.0 in /Users/robertandrewstevens/opt/anaconda3/lib/python3.9/site-packages (from matplotlib->autogluon.core==0.8.2->autogluon.tabular[catboost,lightgbm,xgboost]) (8.4.0)\n",
      "Requirement already satisfied: kiwisolver>=1.0.1 in /Users/robertandrewstevens/opt/anaconda3/lib/python3.9/site-packages (from matplotlib->autogluon.core==0.8.2->autogluon.tabular[catboost,lightgbm,xgboost]) (1.3.1)\n",
      "Requirement already satisfied: cycler>=0.10 in /Users/robertandrewstevens/opt/anaconda3/lib/python3.9/site-packages (from matplotlib->autogluon.core==0.8.2->autogluon.tabular[catboost,lightgbm,xgboost]) (0.10.0)\n",
      "Requirement already satisfied: tenacity>=6.2.0 in /Users/robertandrewstevens/opt/anaconda3/lib/python3.9/site-packages (from plotly->catboost<1.3,>=1.1->autogluon.tabular[catboost,lightgbm,xgboost]) (8.0.1)\n",
      "Requirement already satisfied: charset-normalizer~=2.0.0 in /Users/robertandrewstevens/opt/anaconda3/lib/python3.9/site-packages (from requests->autogluon.core==0.8.2->autogluon.tabular[catboost,lightgbm,xgboost]) (2.0.4)\n",
      "Requirement already satisfied: idna<4,>=2.5 in /Users/robertandrewstevens/opt/anaconda3/lib/python3.9/site-packages (from requests->autogluon.core==0.8.2->autogluon.tabular[catboost,lightgbm,xgboost]) (3.2)\n",
      "Requirement already satisfied: certifi>=2017.4.17 in /Users/robertandrewstevens/opt/anaconda3/lib/python3.9/site-packages (from requests->autogluon.core==0.8.2->autogluon.tabular[catboost,lightgbm,xgboost]) (2022.12.7)\n"
     ]
    },
    {
     "name": "stdout",
     "output_type": "stream",
     "text": [
      "Installing collected packages: numpy, pandas, networkx, autogluon.common, autogluon.features, autogluon.core, xgboost, catboost, autogluon.tabular\n",
      "  Attempting uninstall: numpy\n",
      "    Found existing installation: numpy 1.20.3\n",
      "    Uninstalling numpy-1.20.3:\n",
      "      Successfully uninstalled numpy-1.20.3\n",
      "  Attempting uninstall: pandas\n",
      "    Found existing installation: pandas 1.3.4\n",
      "    Uninstalling pandas-1.3.4:\n",
      "      Successfully uninstalled pandas-1.3.4\n",
      "  Attempting uninstall: networkx\n",
      "    Found existing installation: networkx 2.6.3\n",
      "    Uninstalling networkx-2.6.3:\n",
      "      Successfully uninstalled networkx-2.6.3\n",
      "  Attempting uninstall: xgboost\n",
      "    Found existing installation: xgboost 1.5.2\n",
      "    Uninstalling xgboost-1.5.2:\n",
      "      Successfully uninstalled xgboost-1.5.2\n",
      "  Attempting uninstall: catboost\n",
      "    Found existing installation: catboost 1.0.4\n",
      "    Uninstalling catboost-1.0.4:\n",
      "      Successfully uninstalled catboost-1.0.4\n",
      "\u001b[31mERROR: pip's dependency resolver does not currently take into account all the packages that are installed. This behaviour is the source of the following dependency conflicts.\n",
      "daal4py 2021.3.0 requires daal==2021.2.3, which is not installed.\n",
      "pycaret 2.2.3 requires scikit-learn==0.23.2, but you have scikit-learn 1.1.1 which is incompatible.\n",
      "pandas-profiling 3.1.0 requires joblib~=1.0.1, but you have joblib 1.2.0 which is incompatible.\n",
      "pandas-profiling 3.1.0 requires tangled-up-in-unicode==0.1.0, but you have tangled-up-in-unicode 0.2.0 which is incompatible.\n",
      "pandas-profiling 3.1.0 requires visions[type_image_path]==0.7.4, but you have visions 0.7.5 which is incompatible.\n",
      "numba 0.54.1 requires numpy<1.21,>=1.17, but you have numpy 1.22.4 which is incompatible.\u001b[0m\n",
      "Successfully installed autogluon.common-0.8.2 autogluon.core-0.8.2 autogluon.features-0.8.2 autogluon.tabular-0.8.2 catboost-1.1.1 networkx-3.1 numpy-1.22.4 pandas-1.5.3 xgboost-1.7.6\n",
      "Note: you may need to restart the kernel to use updated packages.\n"
     ]
    }
   ],
   "source": [
    "# If you are using a Mac M1, uncomment the next line to install LightGBM using Conda\n",
    "# %conda install lightgbm \n",
    "# (worked without doing that? Course might be out of date)\n",
    "%pip install \"autogluon.tabular[lightgbm, catboost, xgboost]\""
   ]
  },
  {
   "cell_type": "code",
   "execution_count": 2,
   "metadata": {},
   "outputs": [],
   "source": [
    "from autogluon.tabular import TabularDataset, TabularPredictor"
   ]
  },
  {
   "cell_type": "code",
   "execution_count": null,
   "metadata": {},
   "outputs": [],
   "source": []
  },
  {
   "cell_type": "markdown",
   "metadata": {},
   "source": []
  }
 ],
 "metadata": {
  "kernelspec": {
   "display_name": "Python 3 (ipykernel)",
   "language": "python",
   "name": "python3"
  },
  "language_info": {
   "codemirror_mode": {
    "name": "ipython",
    "version": 3
   },
   "file_extension": ".py",
   "mimetype": "text/x-python",
   "name": "python",
   "nbconvert_exporter": "python",
   "pygments_lexer": "ipython3",
   "version": "3.9.7"
  },
  "vscode": {
   "interpreter": {
    "hash": "cfc447b3686aa72f4379f2e431f1434f0aba1b4c719ad370f525d6d72336906e"
   }
  }
 },
 "nbformat": 4,
 "nbformat_minor": 2
}
