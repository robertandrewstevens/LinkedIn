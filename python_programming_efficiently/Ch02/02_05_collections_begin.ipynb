{
 "cells": [
  {
   "cell_type": "markdown",
   "metadata": {},
   "source": [
    "## 02_05: Exploit Python's collections"
   ]
  },
  {
   "cell_type": "code",
   "execution_count": 2,
   "metadata": {},
   "outputs": [],
   "source": [
    "import collections"
   ]
  },
  {
   "cell_type": "code",
   "execution_count": 19,
   "metadata": {},
   "outputs": [],
   "source": [
    "import numpy as np\n",
    "import matplotlib.pyplot as pp"
   ]
  },
  {
   "cell_type": "code",
   "execution_count": 3,
   "metadata": {},
   "outputs": [
    {
     "data": {
      "text/plain": [
       "['1896\\tThomas Burke\\tUSA\\t100m men\\n',\n",
       " '1896\\tThomas Curtis\\tUSA\\t110m hurdles men\\n',\n",
       " '1896\\tEdwin Flack\\tAUS\\t1500m men\\n',\n",
       " '1896\\tThomas Burke\\tUSA\\t400m men\\n',\n",
       " '1896\\tEdwin Flack\\tAUS\\t800m men\\n',\n",
       " '1896\\tRobert Garrett\\tUSA\\tdiscus throw men\\n',\n",
       " '1896\\tEllery Clark\\tUSA\\thigh jump men\\n',\n",
       " '1896\\tEllery Clark\\tUSA\\tlong jump men\\n',\n",
       " '1896\\tSpyridon Louis\\tGRE\\tmarathon men\\n',\n",
       " '1896\\tWilliam Welles Hoyt\\tUSA\\tpole vault men\\n']"
      ]
     },
     "execution_count": 3,
     "metadata": {},
     "output_type": "execute_result"
    }
   ],
   "source": [
    "open('goldmedals.txt', 'r').readlines()[:10]"
   ]
  },
  {
   "cell_type": "code",
   "execution_count": 4,
   "metadata": {},
   "outputs": [],
   "source": [
    "Medal = collections.namedtuple('Medal', ['year','athlete','team','event'])"
   ]
  },
  {
   "cell_type": "code",
   "execution_count": 5,
   "metadata": {},
   "outputs": [],
   "source": [
    "m = Medal('1896', 'Thomas Burke', 'USA', '100m men')"
   ]
  },
  {
   "cell_type": "code",
   "execution_count": 6,
   "metadata": {},
   "outputs": [
    {
     "data": {
      "text/plain": [
       "Medal(year='1896', athlete='Thomas Burke', team='USA', event='100m men')"
      ]
     },
     "execution_count": 6,
     "metadata": {},
     "output_type": "execute_result"
    }
   ],
   "source": [
    "m"
   ]
  },
  {
   "cell_type": "code",
   "execution_count": 7,
   "metadata": {},
   "outputs": [
    {
     "data": {
      "text/plain": [
       "('1896', 'Thomas Burke')"
      ]
     },
     "execution_count": 7,
     "metadata": {},
     "output_type": "execute_result"
    }
   ],
   "source": [
    "m[0], m[1]"
   ]
  },
  {
   "cell_type": "code",
   "execution_count": 8,
   "metadata": {},
   "outputs": [
    {
     "data": {
      "text/plain": [
       "('1896', 'Thomas Burke')"
      ]
     },
     "execution_count": 8,
     "metadata": {},
     "output_type": "execute_result"
    }
   ],
   "source": [
    "m.year, m.athlete"
   ]
  },
  {
   "cell_type": "code",
   "execution_count": 9,
   "metadata": {},
   "outputs": [
    {
     "data": {
      "text/plain": [
       "[['1896', 'Thomas Burke', 'USA', '100m men\\n'],\n",
       " ['1896', 'Thomas Curtis', 'USA', '110m hurdles men\\n'],\n",
       " ['1896', 'Edwin Flack', 'AUS', '1500m men\\n'],\n",
       " ['1896', 'Thomas Burke', 'USA', '400m men\\n'],\n",
       " ['1896', 'Edwin Flack', 'AUS', '800m men\\n'],\n",
       " ['1896', 'Robert Garrett', 'USA', 'discus throw men\\n'],\n",
       " ['1896', 'Ellery Clark', 'USA', 'high jump men\\n'],\n",
       " ['1896', 'Ellery Clark', 'USA', 'long jump men\\n'],\n",
       " ['1896', 'Spyridon Louis', 'GRE', 'marathon men\\n'],\n",
       " ['1896', 'William Welles Hoyt', 'USA', 'pole vault men\\n']]"
      ]
     },
     "execution_count": 9,
     "metadata": {},
     "output_type": "execute_result"
    }
   ],
   "source": [
    "medals = [line.split('\\t') for line in open('goldmedals.txt', 'r')]\n",
    "medals[:10] # look at the first ten list items only"
   ]
  },
  {
   "cell_type": "code",
   "execution_count": 10,
   "metadata": {},
   "outputs": [
    {
     "data": {
      "text/plain": [
       "[Medal(year='1896', athlete='Thomas Burke', team='USA', event='100m men\\n'),\n",
       " Medal(year='1896', athlete='Thomas Curtis', team='USA', event='110m hurdles men\\n'),\n",
       " Medal(year='1896', athlete='Edwin Flack', team='AUS', event='1500m men\\n'),\n",
       " Medal(year='1896', athlete='Thomas Burke', team='USA', event='400m men\\n'),\n",
       " Medal(year='1896', athlete='Edwin Flack', team='AUS', event='800m men\\n'),\n",
       " Medal(year='1896', athlete='Robert Garrett', team='USA', event='discus throw men\\n'),\n",
       " Medal(year='1896', athlete='Ellery Clark', team='USA', event='high jump men\\n'),\n",
       " Medal(year='1896', athlete='Ellery Clark', team='USA', event='long jump men\\n'),\n",
       " Medal(year='1896', athlete='Spyridon Louis', team='GRE', event='marathon men\\n'),\n",
       " Medal(year='1896', athlete='William Welles Hoyt', team='USA', event='pole vault men\\n')]"
      ]
     },
     "execution_count": 10,
     "metadata": {},
     "output_type": "execute_result"
    }
   ],
   "source": [
    "medals = [Medal(*line.split('\\t')) for line in open('goldmedals.txt', 'r')]\n",
    "medals[:10]"
   ]
  },
  {
   "cell_type": "code",
   "execution_count": 11,
   "metadata": {},
   "outputs": [],
   "source": [
    "medals = [Medal(*line.strip().split('\\t')) for line in open('goldmedals.txt', 'r')]"
   ]
  },
  {
   "cell_type": "code",
   "execution_count": 12,
   "metadata": {},
   "outputs": [
    {
     "data": {
      "text/plain": [
       "[Medal(year='1896', athlete='Thomas Burke', team='USA', event='100m men'),\n",
       " Medal(year='1896', athlete='Thomas Curtis', team='USA', event='110m hurdles men'),\n",
       " Medal(year='1896', athlete='Edwin Flack', team='AUS', event='1500m men'),\n",
       " Medal(year='1896', athlete='Thomas Burke', team='USA', event='400m men'),\n",
       " Medal(year='1896', athlete='Edwin Flack', team='AUS', event='800m men'),\n",
       " Medal(year='1896', athlete='Robert Garrett', team='USA', event='discus throw men'),\n",
       " Medal(year='1896', athlete='Ellery Clark', team='USA', event='high jump men'),\n",
       " Medal(year='1896', athlete='Ellery Clark', team='USA', event='long jump men'),\n",
       " Medal(year='1896', athlete='Spyridon Louis', team='GRE', event='marathon men'),\n",
       " Medal(year='1896', athlete='William Welles Hoyt', team='USA', event='pole vault men')]"
      ]
     },
     "execution_count": 12,
     "metadata": {},
     "output_type": "execute_result"
    }
   ],
   "source": [
    "medals[:10]"
   ]
  },
  {
   "cell_type": "code",
   "execution_count": 13,
   "metadata": {},
   "outputs": [],
   "source": [
    "teams = collections.Counter(medal.team for medal in medals)"
   ]
  },
  {
   "cell_type": "code",
   "execution_count": 14,
   "metadata": {},
   "outputs": [
    {
     "data": {
      "text/plain": [
       "Counter({'USA': 521,\n",
       "         'AUS': 23,\n",
       "         'GRE': 7,\n",
       "         'GBR': 71,\n",
       "         'CAN': 21,\n",
       "         'ZZX': 5,\n",
       "         'HUN': 10,\n",
       "         'FRA': 14,\n",
       "         'RSA': 8,\n",
       "         'SWE': 21,\n",
       "         'FIN': 60,\n",
       "         'NOR': 7,\n",
       "         'ITA': 19,\n",
       "         'GER': 18,\n",
       "         'POL': 27,\n",
       "         'IRL': 4,\n",
       "         'JPN': 7,\n",
       "         'ARG': 2,\n",
       "         'NZL': 10,\n",
       "         'TCH': 11,\n",
       "         'NED': 9,\n",
       "         'JAM': 42,\n",
       "         'BEL': 4,\n",
       "         'AUT': 1,\n",
       "         'LUX': 1,\n",
       "         'URS': 79,\n",
       "         'BRA': 5,\n",
       "         'EUA': 7,\n",
       "         'ROU': 11,\n",
       "         'ETH': 22,\n",
       "         'KEN': 33,\n",
       "         'TUN': 1,\n",
       "         'GDR': 50,\n",
       "         'FRG': 15,\n",
       "         'UGA': 2,\n",
       "         'TRI': 2,\n",
       "         'MEX': 3,\n",
       "         'CUB': 10,\n",
       "         'BUL': 5,\n",
       "         'MAR': 6,\n",
       "         'POR': 4,\n",
       "         'CHN': 8,\n",
       "         'ESP': 3,\n",
       "         'ALG': 4,\n",
       "         'EUN': 12,\n",
       "         'LTU': 3,\n",
       "         'KOR': 1,\n",
       "         'RUS': 29,\n",
       "         'ECU': 1,\n",
       "         'BDI': 1,\n",
       "         'SYR': 1,\n",
       "         'CZE': 5,\n",
       "         'NGR': 1,\n",
       "         'UKR': 3,\n",
       "         'KAZ': 2,\n",
       "         'BAH': 12,\n",
       "         'MOZ': 1,\n",
       "         'EST': 2,\n",
       "         'BLR': 4,\n",
       "         'DOM': 2,\n",
       "         'CMR': 2,\n",
       "         'SLO': 1,\n",
       "         'PAN': 1,\n",
       "         'GRN': 1,\n",
       "         'CRO': 3,\n",
       "         'TUR': 1,\n",
       "         'SUI': 1,\n",
       "         'COL': 1,\n",
       "         'BRN': 1,\n",
       "         'TJK': 1,\n",
       "         'SVK': 1})"
      ]
     },
     "execution_count": 14,
     "metadata": {},
     "output_type": "execute_result"
    }
   ],
   "source": [
    "teams"
   ]
  },
  {
   "cell_type": "code",
   "execution_count": 15,
   "metadata": {},
   "outputs": [
    {
     "data": {
      "text/plain": [
       "[('USA', 521), ('URS', 79), ('GBR', 71), ('FIN', 60), ('GDR', 50)]"
      ]
     },
     "execution_count": 15,
     "metadata": {},
     "output_type": "execute_result"
    }
   ],
   "source": [
    "teams.most_common(5)"
   ]
  },
  {
   "cell_type": "code",
   "execution_count": 16,
   "metadata": {},
   "outputs": [
    {
     "data": {
      "text/plain": [
       "[('USA', 30), ('JAM', 11), ('KEN', 6), ('GBR', 3), ('GER', 2)]"
      ]
     },
     "execution_count": 16,
     "metadata": {},
     "output_type": "execute_result"
    }
   ],
   "source": [
    "best = collections.Counter(medal.team for medal in medals if medal.year == str(2016)).most_common(5)\n",
    "best"
   ]
  },
  {
   "cell_type": "code",
   "execution_count": 17,
   "metadata": {},
   "outputs": [],
   "source": [
    "dbest = dict(best)"
   ]
  },
  {
   "cell_type": "code",
   "execution_count": 20,
   "metadata": {},
   "outputs": [
    {
     "data": {
      "text/plain": [
       "<BarContainer object of 5 artists>"
      ]
     },
     "execution_count": 20,
     "metadata": {},
     "output_type": "execute_result"
    },
    {
     "data": {
      "image/png": "[encoded data removed]",
      "text/plain": [
       "<Figure size 432x288 with 1 Axes>"
      ]
     },
     "metadata": {
      "needs_background": "light"
     },
     "output_type": "display_data"
    }
   ],
   "source": [
    "pp.bar(dbest.keys(), dbest.values())"
   ]
  },
  {
   "cell_type": "code",
   "execution_count": 21,
   "metadata": {},
   "outputs": [
    {
     "data": {
      "image/png": "[encoded data removed]",
      "text/plain": [
       "<Figure size 576x432 with 4 Axes>"
      ]
     },
     "metadata": {},
     "output_type": "display_data"
    }
   ],
   "source": [
    "pp.style.use('ggplot')\n",
    "pp.figure(figsize=(8,6))\n",
    "\n",
    "for i, year in enumerate([2004, 2008, 2012, 2016], 1):\n",
    "    pp.subplot(2, 2, i)\n",
    "\n",
    "    best = dict(collections.Counter(medal.team for medal in medals if medal.year == str(year)).most_common(5))\n",
    "    \n",
    "    pp.bar(best.keys(), best.values())\n",
    "    pp.title(year)\n",
    "    \n",
    "pp.tight_layout()"
   ]
  },
  {
   "cell_type": "code",
   "execution_count": 22,
   "metadata": {},
   "outputs": [],
   "source": [
    "winners_by_country = {}\n",
    "\n",
    "for medal in medals:\n",
    "    if medal.team not in winners_by_country:\n",
    "        winners_by_country[medal.team] = [medal.athlete]\n",
    "    else:\n",
    "        winners_by_country[medal.team].append(medal.athlete)"
   ]
  },
  {
   "cell_type": "code",
   "execution_count": 23,
   "metadata": {},
   "outputs": [
    {
     "data": {
      "text/plain": [
       "['Ugo Frigerio',\n",
       " 'Ugo Frigerio',\n",
       " 'Ugo Frigerio',\n",
       " 'Luigi Beccali',\n",
       " 'Trebisonda Valla',\n",
       " 'Adolfo Consolini',\n",
       " 'Giuseppe Dordoni',\n",
       " 'Livio Berruti',\n",
       " 'Abdon Pamich',\n",
       " 'Pietro Mennea',\n",
       " 'Maurizio Damilano',\n",
       " 'Sara Simeoni',\n",
       " 'Alberto Cova',\n",
       " 'Gabriella Dorio',\n",
       " 'Alessandro Andrei',\n",
       " 'Gelindo Bordin',\n",
       " 'Ivano Brugnetti',\n",
       " 'Stefano Baldini',\n",
       " 'Alex Schwazer']"
      ]
     },
     "execution_count": 23,
     "metadata": {},
     "output_type": "execute_result"
    }
   ],
   "source": [
    "winners_by_country['ITA']"
   ]
  },
  {
   "cell_type": "code",
   "execution_count": 24,
   "metadata": {},
   "outputs": [],
   "source": [
    "winners_by_country = collections.defaultdict(list)"
   ]
  },
  {
   "cell_type": "code",
   "execution_count": 25,
   "metadata": {},
   "outputs": [
    {
     "data": {
      "text/plain": [
       "[]"
      ]
     },
     "execution_count": 25,
     "metadata": {},
     "output_type": "execute_result"
    }
   ],
   "source": [
    "list()"
   ]
  },
  {
   "cell_type": "code",
   "execution_count": 26,
   "metadata": {},
   "outputs": [],
   "source": [
    "for medal in medals:\n",
    "    winners_by_country[medal.team].append(medal.athlete)"
   ]
  },
  {
   "cell_type": "code",
   "execution_count": 27,
   "metadata": {},
   "outputs": [
    {
     "data": {
      "text/plain": [
       "['Michel Theato',\n",
       " 'Joseph Guillemot',\n",
       " 'Boughera Mohamed El Ouafi',\n",
       " 'Micheline Ostermeyer',\n",
       " 'Micheline Ostermeyer',\n",
       " 'Alain Mimoun',\n",
       " 'Colette Besson',\n",
       " 'Guy Drut',\n",
       " 'Pierre Quinon',\n",
       " 'Marie-Jose Perec',\n",
       " 'Marie-Jose Perec',\n",
       " 'Marie-Jose Perec',\n",
       " 'Jean Galfione',\n",
       " 'Renaud Lavillenie']"
      ]
     },
     "execution_count": 27,
     "metadata": {},
     "output_type": "execute_result"
    }
   ],
   "source": [
    "winners_by_country['FRA']"
   ]
  },
  {
   "cell_type": "code",
   "execution_count": 28,
   "metadata": {},
   "outputs": [],
   "source": [
    "dq = collections.deque(range(10))"
   ]
  },
  {
   "cell_type": "code",
   "execution_count": 29,
   "metadata": {},
   "outputs": [
    {
     "data": {
      "text/plain": [
       "deque([0, 1, 2, 3, 4, 5, 6, 7, 8, 9])"
      ]
     },
     "execution_count": 29,
     "metadata": {},
     "output_type": "execute_result"
    }
   ],
   "source": [
    "dq"
   ]
  },
  {
   "cell_type": "code",
   "execution_count": 30,
   "metadata": {},
   "outputs": [
    {
     "name": "stdout",
     "output_type": "stream",
     "text": [
      "Inserted: 10 - popped: 0 - result: deque([1, 2, 3, 4, 5, 6, 7, 8, 9, 10])\n",
      "Inserted: 11 - popped: 1 - result: deque([2, 3, 4, 5, 6, 7, 8, 9, 10, 11])\n",
      "Inserted: 12 - popped: 2 - result: deque([3, 4, 5, 6, 7, 8, 9, 10, 11, 12])\n",
      "Inserted: 13 - popped: 3 - result: deque([4, 5, 6, 7, 8, 9, 10, 11, 12, 13])\n",
      "Inserted: 14 - popped: 4 - result: deque([5, 6, 7, 8, 9, 10, 11, 12, 13, 14])\n"
     ]
    }
   ],
   "source": [
    "for i in range(10,15):\n",
    "    dq.append(i)\n",
    "    v = dq.popleft()\n",
    "    \n",
    "    print(\"Inserted:\", i, \"- popped:\", v, \"- result:\", dq)"
   ]
  },
  {
   "cell_type": "code",
   "execution_count": 31,
   "metadata": {},
   "outputs": [
    {
     "name": "stdout",
     "output_type": "stream",
     "text": [
      "Inserted: 4 - popped: 14 - result: deque([4, 5, 6, 7, 8, 9, 10, 11, 12, 13])\n",
      "Inserted: 3 - popped: 13 - result: deque([3, 4, 5, 6, 7, 8, 9, 10, 11, 12])\n",
      "Inserted: 2 - popped: 12 - result: deque([2, 3, 4, 5, 6, 7, 8, 9, 10, 11])\n",
      "Inserted: 1 - popped: 11 - result: deque([1, 2, 3, 4, 5, 6, 7, 8, 9, 10])\n",
      "Inserted: 0 - popped: 10 - result: deque([0, 1, 2, 3, 4, 5, 6, 7, 8, 9])\n"
     ]
    }
   ],
   "source": [
    "for i in reversed(range(0,5)):\n",
    "    dq.appendleft(i)\n",
    "    v = dq.pop()\n",
    "    \n",
    "    print(\"Inserted:\", i, \"- popped:\", v, \"- result:\", dq)"
   ]
  },
  {
   "cell_type": "code",
   "execution_count": null,
   "metadata": {},
   "outputs": [],
   "source": []
  }
 ],
 "metadata": {
  "anaconda-cloud": {},
  "kernelspec": {
   "display_name": "Python 3",
   "language": "python",
   "name": "python3"
  },
  "language_info": {
   "codemirror_mode": {
    "name": "ipython",
    "version": 3
   },
   "file_extension": ".py",
   "mimetype": "text/x-python",
   "name": "python",
   "nbconvert_exporter": "python",
   "pygments_lexer": "ipython3",
   "version": "3.9.7"
  }
 },
 "nbformat": 4,
 "nbformat_minor": 1
}
