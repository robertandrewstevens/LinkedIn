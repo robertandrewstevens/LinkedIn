{
 "cells": [
  {
   "cell_type": "code",
   "execution_count": 1,
   "id": "b48d32b0",
   "metadata": {},
   "outputs": [
    {
     "name": "stdout",
     "output_type": "stream",
     "text": [
      "0\n",
      "[1000001, 2000001, 3000001, 4000001]\n",
      "2\n",
      "[1000003, 2000003, 3000003, 4000003]\n",
      "4\n",
      "[1000005, 2000005, 3000005, 4000005]\n",
      "6\n",
      "[1000007, 2000007, 3000007, 4000007]\n",
      "8\n",
      "[1000009, 2000009, 3000009, 4000009]\n",
      "10\n",
      "[1000011, 2000011, 3000011, 4000011]\n",
      "12\n",
      "[1000013, 2000013, 3000013, 4000013]\n",
      "14\n",
      "[1000015, 2000015, 3000015, 4000015]\n",
      "16\n",
      "[1000017, 2000017, 3000017, 4000017]\n",
      "18\n",
      "[1000019, 2000019, 3000019, 4000019]\n",
      "20\n",
      "[1000021, 2000021, 3000021, 4000021]\n",
      "22\n",
      "[1000023, 2000023, 3000023, 4000023]\n",
      "24\n",
      "[1000025, 2000025, 3000025, 4000025]\n",
      "26\n",
      "[1000027, 2000027, 3000027, 4000027]\n",
      "28\n",
      "[1000029, 2000029, 3000029, 4000029]\n",
      "30\n",
      "[1000031, 2000031, 3000031, 4000031]\n",
      "32\n",
      "[1000033, 2000033, 3000033, 4000033]\n",
      "34\n",
      "[1000035, 2000035, 3000035, 4000035]\n",
      "36\n",
      "[1000037, 2000037, 3000037, 4000037]\n",
      "38\n",
      "[1000039, 2000039, 3000039, 4000039]\n",
      "40\n",
      "[1000041, 2000041, 3000041, 4000041]\n",
      "42\n",
      "[1000043, 2000043, 3000043, 4000043]\n",
      "44\n"
     ]
    }
   ],
   "source": [
    "#test\n",
    "a,b,c,d=[1,2,3,4]; j,k =0,1\n",
    "data=range(45)\n",
    "def aaaa(data):\n",
    "  for x in data:\n",
    "    if x%2==0:\n",
    "      print(x)\n",
    "      # TODO\n",
    "    else:\n",
    "      print(repr([x+n * 1000000 for n in [a,b,c, d]]))\n",
    "aaaa(data)"
   ]
  },
  {
   "cell_type": "code",
   "execution_count": 6,
   "id": "c67e6bc2",
   "metadata": {},
   "outputs": [
    {
     "name": "stdout",
     "output_type": "stream",
     "text": [
      "0\n",
      "[1000001, 2000001, 3000001, 4000001]\n",
      "2\n",
      "[1000003, 2000003, 3000003, 4000003]\n",
      "4\n",
      "[1000005, 2000005, 3000005, 4000005]\n",
      "6\n",
      "[1000007, 2000007, 3000007, 4000007]\n",
      "8\n",
      "[1000009, 2000009, 3000009, 4000009]\n",
      "10\n",
      "[1000011, 2000011, 3000011, 4000011]\n",
      "12\n",
      "[1000013, 2000013, 3000013, 4000013]\n",
      "14\n",
      "[1000015, 2000015, 3000015, 4000015]\n",
      "16\n",
      "[1000017, 2000017, 3000017, 4000017]\n",
      "18\n",
      "[1000019, 2000019, 3000019, 4000019]\n",
      "20\n",
      "[1000021, 2000021, 3000021, 4000021]\n",
      "22\n",
      "[1000023, 2000023, 3000023, 4000023]\n",
      "24\n",
      "[1000025, 2000025, 3000025, 4000025]\n",
      "26\n",
      "[1000027, 2000027, 3000027, 4000027]\n",
      "28\n",
      "[1000029, 2000029, 3000029, 4000029]\n",
      "30\n",
      "[1000031, 2000031, 3000031, 4000031]\n",
      "32\n",
      "[1000033, 2000033, 3000033, 4000033]\n",
      "34\n",
      "[1000035, 2000035, 3000035, 4000035]\n",
      "36\n",
      "[1000037, 2000037, 3000037, 4000037]\n",
      "38\n",
      "[1000039, 2000039, 3000039, 4000039]\n",
      "40\n",
      "[1000041, 2000041, 3000041, 4000041]\n",
      "42\n",
      "[1000043, 2000043, 3000043, 4000043]\n",
      "44\n"
     ]
    },
    {
     "data": {
      "text/plain": [
       "True"
      ]
     },
     "execution_count": 6,
     "metadata": {},
     "output_type": "execute_result"
    }
   ],
   "source": [
    "# Python practice example - fix for poor code\n",
    "a = 1\n",
    "b = 2\n",
    "c = 3\n",
    "d = 4\n",
    "\n",
    "series_length = 45\n",
    "\n",
    "series_vec = range(series_length)\n",
    "\n",
    "def process_series(vec):\n",
    "    \"\"\" \n",
    "    process series defined for practice exercise\n",
    "    return True\n",
    "    TODO: add error handling instead returning True and adhere to docstring template\n",
    "    \"\"\"\n",
    "    \n",
    "    for x in vec:\n",
    "        if x % 2 == 0: # print x if even\n",
    "            print(x)\n",
    "        else: # otherwise print highly unusual function of x, a, b, c and d for odd values\n",
    "            print(repr([x + (n * 1000000) for n in [a, b, c, d]]))\n",
    "            \n",
    "    return True\n",
    "            \n",
    "process_series(series_vec)"
   ]
  },
  {
   "cell_type": "code",
   "execution_count": null,
   "id": "d86ede11",
   "metadata": {},
   "outputs": [],
   "source": []
  },
  {
   "cell_type": "code",
   "execution_count": null,
   "id": "1a266c20",
   "metadata": {},
   "outputs": [],
   "source": []
  }
 ],
 "metadata": {
  "kernelspec": {
   "display_name": "Python 3 (ipykernel)",
   "language": "python",
   "name": "python3"
  },
  "language_info": {
   "codemirror_mode": {
    "name": "ipython",
    "version": 3
   },
   "file_extension": ".py",
   "mimetype": "text/x-python",
   "name": "python",
   "nbconvert_exporter": "python",
   "pygments_lexer": "ipython3",
   "version": "3.11.2"
  }
 },
 "nbformat": 4,
 "nbformat_minor": 5
}
